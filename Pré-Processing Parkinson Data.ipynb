{
 "cells": [
  {
   "cell_type": "code",
   "execution_count": 1,
   "metadata": {},
   "outputs": [],
   "source": [
    "import pandas as pd\n",
    "import numpy as np\n",
    "\n",
    "fullData = pd.read_csv('PPMI_Original_Cohort_BL_to_Year_5_Dataset_Apr2020 (version 1).csv', sep=';') \n",
    "fullData\n",
    "\n",
    "#filtering pacients from health control\n",
    "fullData = fullData.loc[fullData['APPRDX'] != 2]"
   ]
  },
  {
   "cell_type": "code",
   "execution_count": 2,
   "metadata": {},
   "outputs": [],
   "source": [
    "df = fullData[['PATNO','cogstate', 'age_cat', 'NHY', 'rigidity', 'upsit', 'tremor', 'gen', 'race', 'updrs_totscore', 'ess_cat',\n",
    "               'gds_cat', 'scopa', 'bjlot', 'moca', 'NP1APAT', 'NP1DDS', 'NP1HALL', 'DOMSIDE', 'sft', 'stai', 'APPRDX']]"
   ]
  },
  {
   "cell_type": "code",
   "execution_count": 3,
   "metadata": {},
   "outputs": [],
   "source": [
    "dfFirst = df.drop_duplicates(['PATNO'],keep='first')\n",
    "#dfFirst"
   ]
  },
  {
   "cell_type": "code",
   "execution_count": 4,
   "metadata": {},
   "outputs": [],
   "source": [
    "dfLast = df.drop_duplicates(['PATNO'],keep='last')\n",
    "#dfLast"
   ]
  },
  {
   "cell_type": "code",
   "execution_count": 5,
   "metadata": {},
   "outputs": [],
   "source": [
    "##Getting max value of NHY and adding to a new Column and calc new attributte 'NHY_EVOL' for a given pacient \n",
    "# and adding both to dfGrouped\n",
    "dfGrouped = dfFirst.copy()\n",
    "dfGrouped.index = fullData[['PATNO','NHY']].groupby('PATNO')['NHY'].agg(pd.Series.max).to_frame().index\n",
    "dfGrouped['NHY_MAX'] = fullData[['PATNO','NHY']].groupby('PATNO')['NHY'].agg(pd.Series.max).to_frame()\n",
    "dfGrouped['NHY_EVOL'] = dfGrouped['NHY_MAX'] - dfGrouped['NHY']\n",
    "#dfGrouped"
   ]
  },
  {
   "cell_type": "code",
   "execution_count": 61,
   "metadata": {},
   "outputs": [
    {
     "data": {
      "text/plain": [
       "'\\nThis code is commented because this kind of generated field biases the data, so we cant use anymore\\n'"
      ]
     },
     "execution_count": 61,
     "metadata": {},
     "output_type": "execute_result"
    }
   ],
   "source": [
    "\"\"\"\n",
    "This code is commented because this kind of generated field biases the data, so we cant use anymore\n",
    "\"\"\"\n",
    "##Getting max value of 'updrs_totscore' and adding to a new Column and calc new attributte 'updrs_totscore' for a given pacient \n",
    "# and adding both to dfGrouped\n",
    "\n",
    "#dfGrouped.index = fullData[['PATNO','updrs_totscore']].groupby('PATNO')['updrs_totscore'].agg(pd.Series.max).to_frame().index\n",
    "#dfGrouped['updrs_max'] = fullData[['PATNO','updrs_totscore']].groupby('PATNO')['updrs_totscore'].agg(pd.Series.max).to_frame()\n",
    "#dfGrouped['updrs_evol'] = dfGrouped['updrs_max'] - dfGrouped['updrs_totscore']\n",
    "#dfGrouped  \n"
   ]
  },
  {
   "cell_type": "code",
   "execution_count": 6,
   "metadata": {
    "scrolled": true
   },
   "outputs": [
    {
     "data": {
      "text/plain": [
       "'\\nThis code shows which variables need to be complete (has missing data)\\n'"
      ]
     },
     "execution_count": 6,
     "metadata": {},
     "output_type": "execute_result"
    }
   ],
   "source": [
    "\"\"\"\n",
    "This code shows which variables need to be complete (has missing data)\n",
    "\"\"\"\n",
    "\n",
    "#dfGrouped.isnull().sum()"
   ]
  },
  {
   "cell_type": "code",
   "execution_count": 8,
   "metadata": {},
   "outputs": [
    {
     "data": {
      "text/plain": [
       "0"
      ]
     },
     "execution_count": 8,
     "metadata": {},
     "output_type": "execute_result"
    }
   ],
   "source": [
    "#Creating dummy variable to indicate if the data was completed\n",
    "dfGrouped['cogstate_missed'] = dfGrouped['cogstate'].isnull().astype('int')\n",
    "##Filling missing value with mode\n",
    "dfGrouped['cogstate'] = dfGrouped['cogstate'].fillna(df['cogstate'].mode()[0])\n",
    "dfGrouped['cogstate'].isnull().sum()\n",
    "\n",
    "dfGrouped['updrs_totscore'] = dfGrouped['updrs_totscore'].fillna(dfGrouped['updrs_totscore'].median())\n",
    "dfGrouped['updrs_totscore'].isnull().sum()\n",
    "\n",
    "dfGrouped['rigidity'] = dfGrouped['rigidity'].fillna(dfGrouped['rigidity'].median())\n",
    "dfGrouped['rigidity'].isnull().sum()\n",
    "\n",
    "dfGrouped['tremor'] = dfGrouped['tremor'].fillna(dfGrouped['tremor'].median())\n",
    "dfGrouped['tremor'].isnull().sum()\n",
    "\n",
    "dfGrouped['NHY'] = dfGrouped['NHY'].fillna(df['NHY'].mode()[0])\n",
    "dfGrouped['NHY'].isnull().sum()\n",
    "\n",
    "#BJLOT Benton Judgement of Line Orientation Score - Teste de habilidade Visoespacial associado com doenças neurológicas\n",
    "dfGrouped['bjlot'] = dfGrouped['bjlot'].fillna(dfGrouped['bjlot'].median())\n",
    "dfGrouped['bjlot'].isnull().sum()\n",
    "\n",
    "#MONTREAL COGNITIVE ASSESSMENT (MOCA)\n",
    "dfGrouped['moca'] = dfGrouped['moca'].fillna(dfGrouped['moca'].median())\n",
    "dfGrouped['moca'].isnull().sum()\n",
    "\n",
    "#Categorical Epworth Sleepiness Scale Score: 1 sonolento  - 0 normal\n",
    "dfGrouped['ess_cat'] = dfGrouped['ess_cat'].fillna(df['ess_cat'].mode()[0])\n",
    "dfGrouped['ess_cat'].isnull().sum()\n",
    "\n",
    "#NP1APAT 0-Normal 1-Slight 2-Mild 3-Moderate 4-Severe\n",
    "dfGrouped['NP1APAT'] = dfGrouped['NP1APAT'].fillna(df['NP1APAT'].mode()[0])\n",
    "dfGrouped['NP1APAT'].isnull().sum()\n",
    "\n",
    "#NP1DDS  0-Normal 1-Slight 2-Mild 3-Moderate 4-Severe\n",
    "dfGrouped['NP1DDS'] = dfGrouped['NP1DDS'].fillna(df['NP1DDS'].mode()[0])\n",
    "dfGrouped['NP1DDS'].isnull().sum()\n",
    "\n",
    "#NP1HALL 0-Normal 1-Slight 2-Mild 3-Moderate 4-Severe\n",
    "dfGrouped['NP1HALL'] = dfGrouped['NP1HALL'].fillna(df['NP1HALL'].mode()[0])\n",
    "dfGrouped['NP1HALL'].isnull().sum()\n",
    "\n",
    "#DOMSIDE (1 Left,2 Right,3 Simetrica)     OBS: 196 instances filled. Think if we keep it or not \n",
    "dfGrouped['DOMSIDE_MISSED'] = dfGrouped['DOMSIDE'].isnull().astype('int')\n",
    "dfGrouped['DOMSIDE'] = dfGrouped['DOMSIDE'].fillna(df['DOMSIDE'].mode()[0])\n",
    "dfGrouped['DOMSIDE'].isnull().sum()\n",
    "\n",
    "#SCOPA-AUT Total Score (The SCOPA-AUT was developed to evaluate autonomic symptoms)\n",
    "dfGrouped['scopa_missed'] = dfGrouped['scopa'].isnull().astype('int')\n",
    "dfGrouped['scopa'] = dfGrouped['scopa'].fillna(dfGrouped['scopa'].median())\n",
    "dfGrouped['scopa'].isnull().sum()\n",
    "\n",
    "#sft (Semantic Fluency Total Score)\n",
    "dfGrouped['sft'] = dfGrouped['sft'].fillna(dfGrouped['sft'].median())\n",
    "dfGrouped['sft'].isnull().sum()\n",
    "\n",
    "#stai (State‐Trait Anxiety Inventory)\n",
    "dfGrouped['stai'] = dfGrouped['stai'].fillna(dfGrouped['stai'].median())\n",
    "dfGrouped['stai'].isnull().sum()\n",
    "\n",
    "## Fixing dependable values after filling\n",
    "dfGrouped['NHY_EVOL'] = dfGrouped['NHY_MAX'] - dfGrouped['NHY']\n",
    "dfGrouped['NHY_EVOL'].isnull().sum()\n",
    "#dfGrouped"
   ]
  },
  {
   "cell_type": "code",
   "execution_count": 9,
   "metadata": {},
   "outputs": [],
   "source": [
    "#Setting the field 'disease_status'. It will be used as label\n",
    "dfGrouped['disease_status'] = np.where(dfGrouped['NHY_EVOL']>0, 'Evolved', 'Not Evolved')\n",
    "\n",
    "#Droping undesired fields\n",
    "dfGrouped = dfGrouped.drop(['NHY_MAX', 'NHY_EVOL'], axis=1)\n",
    "#dfGrouped"
   ]
  },
  {
   "cell_type": "code",
   "execution_count": 11,
   "metadata": {},
   "outputs": [
    {
     "data": {
      "text/plain": [
       "Not Evolved    291\n",
       "Evolved        196\n",
       "Name: disease_status, dtype: int64"
      ]
     },
     "execution_count": 11,
     "metadata": {},
     "output_type": "execute_result"
    }
   ],
   "source": [
    "dfGrouped['disease_status'].value_counts()"
   ]
  },
  {
   "cell_type": "code",
   "execution_count": 37,
   "metadata": {},
   "outputs": [],
   "source": [
    "#Saves the new generated csv after transformation process\n",
    "dfGrouped.to_csv('processed_parkinson_data_without_healthy_contro_csv', index=False)"
   ]
  },
  {
   "cell_type": "code",
   "execution_count": null,
   "metadata": {},
   "outputs": [],
   "source": []
  },
  {
   "cell_type": "code",
   "execution_count": null,
   "metadata": {},
   "outputs": [],
   "source": []
  }
 ],
 "metadata": {
  "kernelspec": {
   "display_name": "Python 3",
   "language": "python",
   "name": "python3"
  },
  "language_info": {
   "codemirror_mode": {
    "name": "ipython",
    "version": 3
   },
   "file_extension": ".py",
   "mimetype": "text/x-python",
   "name": "python",
   "nbconvert_exporter": "python",
   "pygments_lexer": "ipython3",
   "version": "3.6.4"
  }
 },
 "nbformat": 4,
 "nbformat_minor": 2
}
